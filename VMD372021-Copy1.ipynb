{
 "cells": [
  {
   "cell_type": "code",
   "execution_count": 14,
   "metadata": {},
   "outputs": [],
   "source": [
    "import requests\n",
    "import pandas as pd\n",
    "import json\n",
    "from flask import Flask, request, render_template, jsonify"
   ]
  },
  {
   "cell_type": "code",
   "execution_count": 15,
   "metadata": {},
   "outputs": [],
   "source": [
    "url = \"https://spoonacular-recipe-food-nutrition-v1.p.rapidapi.com/recipes/searchComplex\""
   ]
  },
  {
   "cell_type": "code",
   "execution_count": 16,
   "metadata": {},
   "outputs": [],
   "source": [
    "querystring = {\"limitLicense\": \"<REQUIRED>\",\n",
    "\t\"offset\": \"0\",\n",
    "\t\"number\": \"100\",\n",
    "\t\"cuisine\": \"latinamerican\",\n",
    "    \"instructionsRequired\": \"True\",\n",
    "    \"fillIngredients\": \"True\",\n",
    "    \"addRecipeInformation\": \"True\"} ### CHANGE INGREDIENT TO WHAT YOU WANT"
   ]
  },
  {
   "cell_type": "code",
   "execution_count": 17,
   "metadata": {},
   "outputs": [],
   "source": [
    "headers = {\n",
    "    'x-rapidapi-key': \"651aaa93a5msh16007951fa19705p181cc7jsnf87c2b4a7e46\",\n",
    "    'x-rapidapi-host': \"spoonacular-recipe-food-nutrition-v1.p.rapidapi.com\"\n",
    "}"
   ]
  },
  {
   "cell_type": "code",
   "execution_count": 18,
   "metadata": {},
   "outputs": [],
   "source": [
    "    response = requests.get(url, headers=headers, params=querystring)\n",
    "    \n",
    "    response_json = response.json()\n",
    "    \n",
    "    results = response_json['results']\n",
    "    \n",
    "    # consider making everything above part of a separate function\n",
    "    #######################################"
   ]
  },
  {
   "cell_type": "code",
   "execution_count": 19,
   "metadata": {},
   "outputs": [],
   "source": [
    "    recipe_ingredients = []\n",
    "    recipe_steps = []\n",
    "    \n",
    "    # ingredients stuff\n",
    "    for result in results:\n",
    "        try:\n",
    "            recipe_id = result['id']\n",
    "            recipe_title = result['title']  \n",
    "            analyzedInstructions = result['analyzedInstructions']\n",
    "            \n",
    "        except Exception as e:\n",
    "            print('--- error with something ---')\n",
    "            print(e)\n",
    "            continue \n",
    "\n",
    "        instruction_steps = analyzedInstructions[0]['steps']        # Brooke addition\n",
    "\n",
    "        counter = 0                                                 # Brooke addition\n",
    "\n",
    "        for item in instruction_steps:                              # Brooke addition\n",
    "            counter = counter + 1                                   # Brooke addition\n",
    "            step = item['step']                                     # Brooke addition\n",
    "            numbered_step = f'{counter}. {step}'                    # Brooke addition\n",
    "            recipe_steps.append(numbered_step)                      # Brooke addition\n",
    "        \n",
    "        for instruction in analyzedInstructions:\n",
    "            \n",
    "            steps = instruction['steps']\n",
    "            \n",
    "            for step in steps:\n",
    "                \n",
    "                ingredients = step['ingredients']\n",
    "                \n",
    "                for ingredient in ingredients:\n",
    "                    \n",
    "                    ingredient_name = ingredient['name']\n",
    "                    \n",
    "                    recipe_ingredient = {\n",
    "                        'recipe_id': recipe_id,\n",
    "                        'recipe_title': recipe_title,\n",
    "                        'ingredient_name': ingredient_name\n",
    "                    }\n",
    "\n",
    "                    recipe_ingredients.append(recipe_ingredient)"
   ]
  },
  {
   "cell_type": "code",
   "execution_count": 20,
   "metadata": {},
   "outputs": [
    {
     "data": {
      "text/html": [
       "<div>\n",
       "<style scoped>\n",
       "    .dataframe tbody tr th:only-of-type {\n",
       "        vertical-align: middle;\n",
       "    }\n",
       "\n",
       "    .dataframe tbody tr th {\n",
       "        vertical-align: top;\n",
       "    }\n",
       "\n",
       "    .dataframe thead th {\n",
       "        text-align: right;\n",
       "    }\n",
       "</style>\n",
       "<table border=\"1\" class=\"dataframe\">\n",
       "  <thead>\n",
       "    <tr style=\"text-align: right;\">\n",
       "      <th></th>\n",
       "      <th>recipe_id</th>\n",
       "      <th>recipe_title</th>\n",
       "      <th>ingredient_name</th>\n",
       "    </tr>\n",
       "  </thead>\n",
       "  <tbody>\n",
       "    <tr>\n",
       "      <th>0</th>\n",
       "      <td>723984</td>\n",
       "      <td>Cabbage Salad with Peanuts</td>\n",
       "      <td>green onions</td>\n",
       "    </tr>\n",
       "    <tr>\n",
       "      <th>1</th>\n",
       "      <td>723984</td>\n",
       "      <td>Cabbage Salad with Peanuts</td>\n",
       "      <td>cabbage</td>\n",
       "    </tr>\n",
       "    <tr>\n",
       "      <th>2</th>\n",
       "      <td>723984</td>\n",
       "      <td>Cabbage Salad with Peanuts</td>\n",
       "      <td>toast</td>\n",
       "    </tr>\n",
       "    <tr>\n",
       "      <th>3</th>\n",
       "      <td>723984</td>\n",
       "      <td>Cabbage Salad with Peanuts</td>\n",
       "      <td>nuts</td>\n",
       "    </tr>\n",
       "    <tr>\n",
       "      <th>4</th>\n",
       "      <td>723984</td>\n",
       "      <td>Cabbage Salad with Peanuts</td>\n",
       "      <td>cabbage</td>\n",
       "    </tr>\n",
       "  </tbody>\n",
       "</table>\n",
       "</div>"
      ],
      "text/plain": [
       "   recipe_id                recipe_title ingredient_name\n",
       "0     723984  Cabbage Salad with Peanuts    green onions\n",
       "1     723984  Cabbage Salad with Peanuts         cabbage\n",
       "2     723984  Cabbage Salad with Peanuts           toast\n",
       "3     723984  Cabbage Salad with Peanuts            nuts\n",
       "4     723984  Cabbage Salad with Peanuts         cabbage"
      ]
     },
     "execution_count": 20,
     "metadata": {},
     "output_type": "execute_result"
    }
   ],
   "source": [
    "    recipe_df = pd.DataFrame(recipe_ingredients)\n",
    "\n",
    "    \n",
    "\n",
    "    recipe_df.head()"
   ]
  },
  {
   "cell_type": "code",
   "execution_count": 21,
   "metadata": {},
   "outputs": [
    {
     "data": {
      "text/plain": [
       "1515"
      ]
     },
     "execution_count": 21,
     "metadata": {},
     "output_type": "execute_result"
    }
   ],
   "source": [
    "len(recipe_df)"
   ]
  },
  {
   "cell_type": "code",
   "execution_count": 22,
   "metadata": {},
   "outputs": [
    {
     "data": {
      "text/plain": [
       "Raspberry-Glazed Pork Chops with Pickled Onions                                          40\n",
       "Spaghetti Squash Enchilada Casserole (with Chicken!)                                     38\n",
       "Chicken Spinoccoli – Breaded Stuffed Chicken Breast With Spinach, Broccoli and Cheese    37\n",
       "Eggplant Timballo with Cavatelli                                                         33\n",
       "Lemon-Paprika Roasted Salmon                                                             31\n",
       "                                                                                         ..\n",
       "Strawberry Banana Oatmeal Smoothie                                                        3\n",
       "Tangy Tex-Mex Bell Pepper Slaw                                                            2\n",
       "Cilantro Salsa                                                                            1\n",
       "Chicken and Strawberry Poppy Seed Pasta Salad                                             1\n",
       "Feta Cheese and Avocado Hummus Dip                                                        1\n",
       "Name: recipe_title, Length: 98, dtype: int64"
      ]
     },
     "execution_count": 22,
     "metadata": {},
     "output_type": "execute_result"
    }
   ],
   "source": [
    "recipe_df['recipe_title'].value_counts()\n"
   ]
  },
  {
   "cell_type": "code",
   "execution_count": 11,
   "metadata": {},
   "outputs": [],
   "source": [
    "ingredients_df=recipe_df['ingredient_name'].value_counts().to_frame()"
   ]
  },
  {
   "cell_type": "code",
   "execution_count": 12,
   "metadata": {},
   "outputs": [
    {
     "data": {
      "text/html": [
       "<div>\n",
       "<style scoped>\n",
       "    .dataframe tbody tr th:only-of-type {\n",
       "        vertical-align: middle;\n",
       "    }\n",
       "\n",
       "    .dataframe tbody tr th {\n",
       "        vertical-align: top;\n",
       "    }\n",
       "\n",
       "    .dataframe thead th {\n",
       "        text-align: right;\n",
       "    }\n",
       "</style>\n",
       "<table border=\"1\" class=\"dataframe\">\n",
       "  <thead>\n",
       "    <tr style=\"text-align: right;\">\n",
       "      <th></th>\n",
       "      <th>ingredient_name</th>\n",
       "    </tr>\n",
       "  </thead>\n",
       "  <tbody>\n",
       "    <tr>\n",
       "      <th>cooking oil</th>\n",
       "      <td>13</td>\n",
       "    </tr>\n",
       "    <tr>\n",
       "      <th>chimichurri</th>\n",
       "      <td>13</td>\n",
       "    </tr>\n",
       "    <tr>\n",
       "      <th>salt</th>\n",
       "      <td>10</td>\n",
       "    </tr>\n",
       "    <tr>\n",
       "      <th>olive oil</th>\n",
       "      <td>8</td>\n",
       "    </tr>\n",
       "    <tr>\n",
       "      <th>garlic</th>\n",
       "      <td>7</td>\n",
       "    </tr>\n",
       "    <tr>\n",
       "      <th>steak</th>\n",
       "      <td>7</td>\n",
       "    </tr>\n",
       "    <tr>\n",
       "      <th>parsley</th>\n",
       "      <td>7</td>\n",
       "    </tr>\n",
       "    <tr>\n",
       "      <th>onion</th>\n",
       "      <td>6</td>\n",
       "    </tr>\n",
       "    <tr>\n",
       "      <th>avocado</th>\n",
       "      <td>6</td>\n",
       "    </tr>\n",
       "    <tr>\n",
       "      <th>lime juice</th>\n",
       "      <td>5</td>\n",
       "    </tr>\n",
       "    <tr>\n",
       "      <th>quinoa</th>\n",
       "      <td>5</td>\n",
       "    </tr>\n",
       "    <tr>\n",
       "      <th>vinegar</th>\n",
       "      <td>5</td>\n",
       "    </tr>\n",
       "    <tr>\n",
       "      <th>salt and pepper</th>\n",
       "      <td>4</td>\n",
       "    </tr>\n",
       "    <tr>\n",
       "      <th>red pepper flakes</th>\n",
       "      <td>4</td>\n",
       "    </tr>\n",
       "    <tr>\n",
       "      <th>cilantro</th>\n",
       "      <td>4</td>\n",
       "    </tr>\n",
       "    <tr>\n",
       "      <th>sauce</th>\n",
       "      <td>4</td>\n",
       "    </tr>\n",
       "    <tr>\n",
       "      <th>lemon juice</th>\n",
       "      <td>4</td>\n",
       "    </tr>\n",
       "    <tr>\n",
       "      <th>bread</th>\n",
       "      <td>3</td>\n",
       "    </tr>\n",
       "    <tr>\n",
       "      <th>tuna</th>\n",
       "      <td>3</td>\n",
       "    </tr>\n",
       "    <tr>\n",
       "      <th>carrot</th>\n",
       "      <td>3</td>\n",
       "    </tr>\n",
       "  </tbody>\n",
       "</table>\n",
       "</div>"
      ],
      "text/plain": [
       "                   ingredient_name\n",
       "cooking oil                     13\n",
       "chimichurri                     13\n",
       "salt                            10\n",
       "olive oil                        8\n",
       "garlic                           7\n",
       "steak                            7\n",
       "parsley                          7\n",
       "onion                            6\n",
       "avocado                          6\n",
       "lime juice                       5\n",
       "quinoa                           5\n",
       "vinegar                          5\n",
       "salt and pepper                  4\n",
       "red pepper flakes                4\n",
       "cilantro                         4\n",
       "sauce                            4\n",
       "lemon juice                      4\n",
       "bread                            3\n",
       "tuna                             3\n",
       "carrot                           3"
      ]
     },
     "execution_count": 12,
     "metadata": {},
     "output_type": "execute_result"
    }
   ],
   "source": [
    "ingredients_df.head(20)"
   ]
  },
  {
   "cell_type": "code",
   "execution_count": 13,
   "metadata": {},
   "outputs": [],
   "source": [
    "ingredients_df.to_csv(\"chinese.csv\")"
   ]
  },
  {
   "cell_type": "code",
   "execution_count": null,
   "metadata": {},
   "outputs": [],
   "source": []
  }
 ],
 "metadata": {
  "kernelspec": {
   "display_name": "Python 3",
   "language": "python",
   "name": "python3"
  },
  "language_info": {
   "codemirror_mode": {
    "name": "ipython",
    "version": 3
   },
   "file_extension": ".py",
   "mimetype": "text/x-python",
   "name": "python",
   "nbconvert_exporter": "python",
   "pygments_lexer": "ipython3",
   "version": "3.8.3"
  }
 },
 "nbformat": 4,
 "nbformat_minor": 4
}
